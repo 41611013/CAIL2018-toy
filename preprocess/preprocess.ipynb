{
 "cells": [
  {
   "cell_type": "code",
   "execution_count": 57,
   "metadata": {},
   "outputs": [
    {
     "name": "stdout",
     "output_type": "stream",
     "text": [
      "law and accusation files loaded.\n"
     ]
    },
    {
     "name": "stderr",
     "output_type": "stream",
     "text": [
      "Building prefix dict from the default dictionary ...\n",
      "Loading model from cache /tmp/jieba.cache\n",
      "Loading model cost 0.815 seconds.\n",
      "Prefix dict has been built succesfully.\n"
     ]
    }
   ],
   "source": [
    "%%python3\n",
    "# -*- coding: utf-8 -*-\n",
    "\n",
    "import os\n",
    "import json\n",
    "import time\n",
    "import util\n",
    "import pandas as pd\n",
    "from sklearn.feature_extraction.text import TfidfVectorizer as TFIDF"
   ]
  },
  {
   "cell_type": "code",
   "execution_count": 59,
   "metadata": {},
   "outputs": [],
   "source": [
    "%%python3\n",
    "DIM = 3000"
   ]
  },
  {
   "cell_type": "code",
   "execution_count": 58,
   "metadata": {},
   "outputs": [],
   "source": [
    "%matplotlib inline"
   ]
  },
  {
   "cell_type": "code",
   "execution_count": 60,
   "metadata": {},
   "outputs": [],
   "source": [
    "%%python3\n",
    "def train_tfidf(facts):\n",
    "    tfidf = TFIDF(min_df=5, max_features=DIM, ngram_range=(1, 3))\n",
    "    tfidf.fit(facts)"
   ]
  },
  {
   "cell_type": "code",
   "execution_count": 61,
   "metadata": {},
   "outputs": [],
   "source": [
    "%%python3\n",
    "def cut_all(facts):\n",
    "    facts = pd.Series(facts)\n",
    "    return facts.apply(util.cut_line)"
   ]
  },
  {
   "cell_type": "code",
   "execution_count": 62,
   "metadata": {},
   "outputs": [],
   "source": [
    "%%python3\n",
    "def dump_processed_data_to_file(facts, accu_label, article_label, imprison_label):\n",
    "    \"\"\" dump processed data to `.pkl` file \"\"\"\n",
    "    data = [facts, accu_label, article_label, imprison_label]\n",
    "    with open(\"./mid-data.pkl\", \"wb\") as f:\n",
    "        pickle.dump(data, f)"
   ]
  },
  {
   "cell_type": "code",
   "execution_count": 63,
   "metadata": {},
   "outputs": [],
   "source": [
    "%%python3\n",
    "def load_data(fname):\n",
    "    \"\"\" load data from local file \"\"\"\n",
    "    facts = []\n",
    "\n",
    "    accu_label = []\n",
    "    article_label = []\n",
    "    imprison_label = []\n",
    "\n",
    "    with open(fname, 'r') as f:\n",
    "        line = f.readline()\n",
    "        while line:\n",
    "            line_dict = json.loads(line, encoding=\"utf-8\")\n",
    "\n",
    "            fact = line_dict[\"fact\"]\n",
    "\n",
    "            accu = util.get_label(line_dict, \"accu\")\n",
    "            article = util.get_label(line_dict, \"law\")\n",
    "            imprison = util.get_label(line_dict, \"time\")\n",
    "\n",
    "            facts.append(fact)\n",
    "\n",
    "            accu_label.append(accu)\n",
    "            article_label.append(article)\n",
    "            imprison_label.append(imprison)\n",
    "\n",
    "            line = f.readline()\n",
    "    if util.DEBUG:\n",
    "        print(\"training file loaded.\")\n",
    "\n",
    "    facts = cut_all(facts)\n",
    "\n",
    "    if util.DEBUG:\n",
    "        print(\"training data segmented.\")\n",
    "\n",
    "    accu_label = pd.Series(accu_label)\n",
    "    article_label = pd.Series(article_label)\n",
    "    imprison_label = pd.Series(imprison_label)\n",
    "\n",
    "    if util.DUMP:\n",
    "        dump_processed_data_to_file(facts, accu_label, article_label, imprison_label)\n",
    "\n",
    "    return facts, accu_label, article_label, imprison_label"
   ]
  },
  {
   "cell_type": "code",
   "execution_count": 64,
   "metadata": {},
   "outputs": [
    {
     "name": "stderr",
     "output_type": "stream",
     "text": [
      "Traceback (most recent call last):\n",
      "  File \"<stdin>\", line 1, in <module>\n",
      "NameError: name 'os' is not defined\n"
     ]
    }
   ],
   "source": [
    "%%python3\n",
    "train_loc = os.path.join(util.DATA_DIR, util.TRAIN_FNAME)\n",
    "start = time.time()\n",
    "facts, accu_label, article_label, imprison_label = load_data(train_loc)\n",
    "print(\"duration = {}\".format(time.time() - start))"
   ]
  },
  {
   "cell_type": "code",
   "execution_count": 45,
   "metadata": {},
   "outputs": [
    {
     "data": {
      "text/plain": [
       "0    昌宁县 人民检察院 指控 ， 2014 年 4 月 19 日 下午 16 时许 ， 被告人 ...\n",
       "1    公诉机关 指控 , 2015 年 11 月 10 日晚 9 时许 ， 被告人 李某 的 妹妹...\n",
       "2    贵州省 平坝县 人民检察院 指控 ： 2014 年 4 月 9 日 下午 ， 被告人 王某 ...\n",
       "3    经 审理 查明 ： 2014 年 5 月 6 日 14 时许 ， 被告人 叶 某某 驾车 途...\n",
       "4    安阳县 人民检察院 指控 ： 2014 年 4 月 27 日 上午 11 时许 ， 宋某 甲...\n",
       "5    富平县 人民检察院 指控 ， 2016 年 6 月 11 日 18 时许 ， 在 富平县 某...\n",
       "6    深圳市 龙岗区 人民检察院 指控 ， 2014 年 5 月 16 日 22 时许 ， 被害人...\n",
       "7    经 审理 查明 ， 2011 年 8 月 25 日 凌晨 2 时 50 分许 ， 被告人 许...\n",
       "8    岳阳市 岳阳楼区 人民检察院 指控 ： 2015 年 8 月 5 日 凌晨 1 时许 ， 被...\n",
       "9    垣曲县 人民检察院 指控 ： 2016 年 5 月 10 日 3 时 15 分 ， 被告人张...\n",
       "dtype: object"
      ]
     },
     "execution_count": 45,
     "metadata": {},
     "output_type": "execute_result"
    }
   ],
   "source": [
    "facts.head(10)"
   ]
  },
  {
   "cell_type": "code",
   "execution_count": 53,
   "metadata": {},
   "outputs": [],
   "source": [
    "?%time"
   ]
  },
  {
   "cell_type": "code",
   "execution_count": null,
   "metadata": {},
   "outputs": [],
   "source": []
  },
  {
   "cell_type": "code",
   "execution_count": 13,
   "metadata": {},
   "outputs": [
    {
     "data": {
      "text/plain": [
       "count    154592.000000\n",
       "mean         26.154077\n",
       "std          33.584980\n",
       "min          -2.000000\n",
       "25%           6.000000\n",
       "50%          12.000000\n",
       "75%          36.000000\n",
       "max         300.000000\n",
       "dtype: float64"
      ]
     },
     "execution_count": 13,
     "metadata": {},
     "output_type": "execute_result"
    }
   ],
   "source": [
    "imprison_label.describe()"
   ]
  },
  {
   "cell_type": "code",
   "execution_count": 42,
   "metadata": {},
   "outputs": [
    {
     "data": {
      "text/plain": [
       "count     195.000000\n",
       "mean      792.779487\n",
       "std      1065.146773\n",
       "min         1.000000\n",
       "25%        55.000000\n",
       "50%       253.000000\n",
       "75%      1577.000000\n",
       "max      7243.000000\n",
       "dtype: float64"
      ]
     },
     "execution_count": 42,
     "metadata": {},
     "output_type": "execute_result"
    }
   ],
   "source": [
    "accu_label.value_counts().describe()"
   ]
  },
  {
   "cell_type": "code",
   "execution_count": 44,
   "metadata": {},
   "outputs": [
    {
     "data": {
      "text/plain": [
       "count     182.000000\n",
       "mean      849.406593\n",
       "std      1082.087368\n",
       "min         3.000000\n",
       "25%        68.000000\n",
       "50%       247.500000\n",
       "75%      1732.750000\n",
       "max      5603.000000\n",
       "dtype: float64"
      ]
     },
     "execution_count": 44,
     "metadata": {},
     "output_type": "execute_result"
    }
   ],
   "source": [
    "article_label.value_counts().describe()"
   ]
  },
  {
   "cell_type": "code",
   "execution_count": 40,
   "metadata": {},
   "outputs": [
    {
     "data": {
      "text/plain": [
       "<matplotlib.axes._subplots.AxesSubplot at 0x7fe10ad59390>"
      ]
     },
     "execution_count": 40,
     "metadata": {},
     "output_type": "execute_result"
    },
    {
     "data": {
      "image/png": "[encoded data removed]",
      "text/plain": [
       "<Figure size 432x288 with 1 Axes>"
      ]
     },
     "metadata": {},
     "output_type": "display_data"
    }
   ],
   "source": [
    "accu_label.value_counts().plot.bar()"
   ]
  },
  {
   "cell_type": "code",
   "execution_count": 41,
   "metadata": {},
   "outputs": [
    {
     "data": {
      "text/plain": [
       "<matplotlib.axes._subplots.AxesSubplot at 0x7fe10abf5cd0>"
      ]
     },
     "execution_count": 41,
     "metadata": {},
     "output_type": "execute_result"
    },
    {
     "data": {
      "image/png": "[encoded data removed]",
      "text/plain": [
       "<Figure size 432x288 with 1 Axes>"
      ]
     },
     "metadata": {},
     "output_type": "display_data"
    }
   ],
   "source": [
    "article_label.value_counts().plot.bar()"
   ]
  },
  {
   "cell_type": "code",
   "execution_count": 21,
   "metadata": {},
   "outputs": [],
   "source": []
  },
  {
   "cell_type": "code",
   "execution_count": null,
   "metadata": {},
   "outputs": [],
   "source": []
  }
 ],
 "metadata": {
  "kernelspec": {
   "display_name": "Python 3",
   "language": "python",
   "name": "python3"
  },
  "language_info": {
   "codemirror_mode": {
    "name": "ipython",
    "version": 2
   },
   "file_extension": ".py",
   "mimetype": "text/x-python",
   "name": "python",
   "nbconvert_exporter": "python",
   "pygments_lexer": "ipython2",
   "version": "2.7.12"
  }
 },
 "nbformat": 4,
 "nbformat_minor": 2
}
